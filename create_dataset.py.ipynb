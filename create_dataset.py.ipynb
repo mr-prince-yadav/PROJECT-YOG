{
 "cells": [
  {
   "cell_type": "code",
   "execution_count": 3,
   "id": "4ab19845-e46d-476a-a3be-96c207bc9e6b",
   "metadata": {},
   "outputs": [
    {
     "name": "stdout",
     "output_type": "stream",
     "text": [
      "Processing class: .ipynb_checkpoints\n",
      "Processing class: Hand Raise Pose\n",
      "Processing class: Namaskar Pose\n",
      "Processing class: T pose\n",
      "Processing class: Tree Pose\n",
      "Processing class: Warrior Pose\n",
      "✅ Successfully processed all images and saved data to yoga_landmarks.csv\n"
     ]
    }
   ],
   "source": [
    "import os\n",
    "import cv2\n",
    "import mediapipe as mp\n",
    "import csv\n",
    "\n",
    "# Initialize MediaPipe Pose\n",
    "mp_pose = mp.solutions.pose\n",
    "\n",
    "# Define the path to your dataset\n",
    "DATASET_PATH = 'dataset'\n",
    "\n",
    "# Define the path for the output CSV file\n",
    "CSV_PATH = 'yoga_landmarks.csv'\n",
    "\n",
    "# Open the CSV file to write the landmark data\n",
    "with open(CSV_PATH, 'w', newline='') as csv_file:\n",
    "    csv_writer = csv.writer(csv_file)\n",
    "\n",
    "    # --- Write the Header Row ---\n",
    "    header = ['class']\n",
    "    for i in range(33):\n",
    "        header += [f'x{i}', f'y{i}', f'z{i}', f'v{i}']\n",
    "    csv_writer.writerow(header)\n",
    "\n",
    "    # --- Process Each Image and Write Data ---\n",
    "    with mp_pose.Pose(static_image_mode=True) as pose:\n",
    "        for pose_class in os.listdir(DATASET_PATH):\n",
    "            class_path = os.path.join(DATASET_PATH, pose_class)\n",
    "            \n",
    "            if not os.path.isdir(class_path):\n",
    "                continue\n",
    "\n",
    "            print(f\"Processing class: {pose_class}\")\n",
    "            \n",
    "            for image_name in os.listdir(class_path):\n",
    "                image_path = os.path.join(class_path, image_name)\n",
    "                \n",
    "                image = cv2.imread(image_path)\n",
    "                if image is None:\n",
    "                    continue\n",
    "\n",
    "                results = pose.process(cv2.cvtColor(image, cv2.COLOR_BGR2RGB))\n",
    "\n",
    "                if results.pose_landmarks:\n",
    "                    landmarks = results.pose_landmarks.landmark\n",
    "                    \n",
    "                    row = [pose_class]\n",
    "                    for lm in landmarks:\n",
    "                        row.extend([lm.x, lm.y, lm.z, lm.visibility])\n",
    "                    \n",
    "                    csv_writer.writerow(row)\n",
    "\n",
    "print(f\"✅ Successfully processed all images and saved data to {CSV_PATH}\")"
   ]
  },
  {
   "cell_type": "code",
   "execution_count": null,
   "id": "34711d92-62fe-4b56-97bc-c431bf496c10",
   "metadata": {},
   "outputs": [],
   "source": []
  }
 ],
 "metadata": {
  "kernelspec": {
   "display_name": "Python 3 (ipykernel)",
   "language": "python",
   "name": "python3"
  },
  "language_info": {
   "codemirror_mode": {
    "name": "ipython",
    "version": 3
   },
   "file_extension": ".py",
   "mimetype": "text/x-python",
   "name": "python",
   "nbconvert_exporter": "python",
   "pygments_lexer": "ipython3",
   "version": "3.11.4"
  }
 },
 "nbformat": 4,
 "nbformat_minor": 5
}
